{
 "cells": [
  {
   "cell_type": "code",
   "id": "initial_id",
   "metadata": {
    "ExecuteTime": {
     "end_time": "2025-03-08T14:00:37.206482Z",
     "start_time": "2025-03-08T12:47:00.014102Z"
    }
   },
   "source": [
    "%reload_ext autoreload\n",
    "%autoreload 2\n",
    "\n",
    "import os\n",
    "os.environ[\"PYTORCH_MPS_HIGH_WATERMARK_RATIO\"] = \"0.0\"\n",
    "\n",
    "from dataset.graph_builder import GraphBuilder\n",
    "\n",
    "builder = GraphBuilder(dataset_paths=[\"data/MINECRAFT/TEST_133.json\", \"data/MINECRAFT/TEST_101_bert.json\"], dataset_names=[\"MINECRAFT\", \"MINECRAFT\"], dataset_type='test', tokenizer=\"microsoft/DialoGPT-small\")\n",
    "builder()\n"
   ],
   "outputs": [
    {
     "name": "stderr",
     "output_type": "stream",
     "text": [
      "2025-03-08 13:47:00,295 - INFO - Loading dataset from data/MINECRAFT/TEST_133.json\n",
      "2025-03-08 13:47:00,302 - INFO - MINECRAFT dataset loaded successfully.\n",
      "2025-03-08 13:47:00,302 - INFO - Loading dataset from data/MINECRAFT/TEST_101_bert.json\n",
      "2025-03-08 13:47:00,308 - INFO - MINECRAFT dataset loaded successfully.\n",
      "2025-03-08 13:47:00,308 - INFO - Load tokenizer: microsoft/DialoGPT-small.\n",
      "2025-03-08 13:47:00,842 - INFO - Tokenizer pad token to None.\n",
      "2025-03-08 13:47:00,842 - INFO - Load pretrained sentiment analysis model: finiteautomata/bertweet-base-sentiment-analysis.\n",
      "2025-03-08 13:47:01,836 - INFO - Load backtranslation models: Helsinki-NLP/opus-mt-en-ROMANCE - Helsinki-NLP/opus-mt-ROMANCE-en.\n",
      "2025-03-08 13:47:05,051 - INFO - Starting graph construction for dataset/s ['MINECRAFT', 'MINECRAFT']...\n",
      "Processing dialogs: 100%|██████████| 234/234 [1:13:32<00:00, 18.86s/it]\n",
      "2025-03-08 15:00:37,203 - INFO - Graph construction completed successfully.\n"
     ]
    }
   ],
   "execution_count": 20
  },
  {
   "cell_type": "code",
   "id": "95b92afb1dbbefd8",
   "metadata": {
    "ExecuteTime": {
     "end_time": "2025-03-08T14:55:46.353143Z",
     "start_time": "2025-03-08T14:55:45.006694Z"
    }
   },
   "source": "builder.save_graphs('data/MINECRAFT/dialogpt-graphs')",
   "outputs": [
    {
     "name": "stderr",
     "output_type": "stream",
     "text": [
      "2025-03-08 15:55:45,329 - INFO - Saving graphs to data/MINECRAFT/dialogpt-graphs/test\n",
      "2025-03-08 15:55:46,349 - INFO - Graphs saved successfully.\n"
     ]
    }
   ],
   "execution_count": 21
  },
  {
   "cell_type": "code",
   "execution_count": null,
   "id": "18ae6419a9790260",
   "metadata": {},
   "outputs": [],
   "source": [
    "import os \n",
    "\n",
    "os.path.isdir('data/UNIFIED')"
   ]
  },
  {
   "cell_type": "code",
   "execution_count": null,
   "id": "8ba8230dd54f62eb",
   "metadata": {},
   "outputs": [],
   "source": [
    "import torch \n",
    "import os \n",
    "x = torch.load(os.path.join('data/MOLWENI/graphs/test', '556.pt'), map_location='cpu')\n",
    "x "
   ]
  },
  {
   "cell_type": "code",
   "execution_count": null,
   "id": "5d854787b7c79b9f",
   "metadata": {},
   "outputs": [],
   "source": [
    "from utils import display_graph \n",
    "import torch \n",
    "\n",
    "display_graph(torch.load('data/BALANCED/graphs/test/212.pt', map_location='cpu'))"
   ]
  },
  {
   "cell_type": "code",
   "execution_count": null,
   "id": "5519e1932e15fa67",
   "metadata": {},
   "outputs": [],
   "source": []
  }
 ],
 "metadata": {
  "kernelspec": {
   "display_name": "Python 3 (ipykernel)",
   "language": "python",
   "name": "python3"
  },
  "language_info": {
   "codemirror_mode": {
    "name": "ipython",
    "version": 3
   },
   "file_extension": ".py",
   "mimetype": "text/x-python",
   "name": "python",
   "nbconvert_exporter": "python",
   "pygments_lexer": "ipython3",
   "version": "3.10.13"
  }
 },
 "nbformat": 4,
 "nbformat_minor": 5
}
