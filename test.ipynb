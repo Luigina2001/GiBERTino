{
 "cells": [
  {
   "cell_type": "code",
   "execution_count": 2,
   "id": "aa5d591f43f83abd",
   "metadata": {
    "ExecuteTime": {
     "end_time": "2025-03-31T07:55:18.930573Z",
     "start_time": "2025-03-31T07:55:13.331665Z"
    }
   },
   "outputs": [
    {
     "name": "stderr",
     "output_type": "stream",
     "text": [
      "2025-03-31 09:58:17,865 - INFO - Use pytorch device_name: cpu\n",
      "2025-03-31 09:58:17,870 - INFO - Load pretrained SentenceTransformer: Alibaba-NLP/gte-modernbert-base\n"
     ]
    },
    {
     "data": {
      "text/plain": [
       "GiBERTino(\n",
       "  (gnn_model): GCN(41, 50, num_layers=3)\n",
       "  (bert_model): ModernBertModel(\n",
       "    (embeddings): ModernBertEmbeddings(\n",
       "      (tok_embeddings): Embedding(50368, 768, padding_idx=50283)\n",
       "      (norm): LayerNorm((768,), eps=1e-05, elementwise_affine=True)\n",
       "      (drop): Dropout(p=0.0, inplace=False)\n",
       "    )\n",
       "    (layers): ModuleList(\n",
       "      (0): ModernBertEncoderLayer(\n",
       "        (attn_norm): Identity()\n",
       "        (attn): ModernBertAttention(\n",
       "          (Wqkv): Linear(in_features=768, out_features=2304, bias=False)\n",
       "          (rotary_emb): ModernBertRotaryEmbedding()\n",
       "          (Wo): Linear(in_features=768, out_features=768, bias=False)\n",
       "          (out_drop): Identity()\n",
       "        )\n",
       "        (mlp_norm): LayerNorm((768,), eps=1e-05, elementwise_affine=True)\n",
       "        (mlp): ModernBertMLP(\n",
       "          (Wi): Linear(in_features=768, out_features=2304, bias=False)\n",
       "          (act): GELUActivation()\n",
       "          (drop): Dropout(p=0.0, inplace=False)\n",
       "          (Wo): Linear(in_features=1152, out_features=768, bias=False)\n",
       "        )\n",
       "      )\n",
       "      (1-21): 21 x ModernBertEncoderLayer(\n",
       "        (attn_norm): LayerNorm((768,), eps=1e-05, elementwise_affine=True)\n",
       "        (attn): ModernBertAttention(\n",
       "          (Wqkv): Linear(in_features=768, out_features=2304, bias=False)\n",
       "          (rotary_emb): ModernBertRotaryEmbedding()\n",
       "          (Wo): Linear(in_features=768, out_features=768, bias=False)\n",
       "          (out_drop): Identity()\n",
       "        )\n",
       "        (mlp_norm): LayerNorm((768,), eps=1e-05, elementwise_affine=True)\n",
       "        (mlp): ModernBertMLP(\n",
       "          (Wi): Linear(in_features=768, out_features=2304, bias=False)\n",
       "          (act): GELUActivation()\n",
       "          (drop): Dropout(p=0.0, inplace=False)\n",
       "          (Wo): Linear(in_features=1152, out_features=768, bias=False)\n",
       "        )\n",
       "      )\n",
       "    )\n",
       "    (final_norm): LayerNorm((768,), eps=1e-05, elementwise_affine=True)\n",
       "  )\n",
       "  (relation_embeddings): Embedding(19, 50)\n",
       "  (link_classifier): Sequential(\n",
       "    (0): Linear(in_features=101, out_features=50, bias=True)\n",
       "    (1): ReLU()\n",
       "    (2): Linear(in_features=50, out_features=1, bias=True)\n",
       "  )\n",
       "  (rel_classifier): Sequential(\n",
       "    (0): Linear(in_features=150, out_features=50, bias=True)\n",
       "    (1): ReLU()\n",
       "    (2): Linear(in_features=50, out_features=19, bias=True)\n",
       "    (3): Softmax(dim=-1)\n",
       "  )\n",
       "  (link_loss): BCEWithLogitsLoss()\n",
       "  (rel_loss): CrossEntropyLoss()\n",
       ")"
      ]
     },
     "execution_count": 2,
     "metadata": {},
     "output_type": "execute_result"
    }
   ],
   "source": [
    "import lightning\n",
    "\n",
    "from model import GiBERTino\n",
    "\n",
    "model = GiBERTino.load_from_checkpoint(\"alibaba-modernbert-molweni-epoch-epoch=08-val_loss=2.49.ckpt\")\n",
    "model"
   ]
  },
  {
   "cell_type": "code",
   "execution_count": 6,
   "id": "54776b1f432ccac7",
   "metadata": {},
   "outputs": [
    {
     "data": {
      "text/plain": [
       "<torch_geometric.loader.dataloader.DataLoader at 0x3094de380>"
      ]
     },
     "execution_count": 6,
     "metadata": {},
     "output_type": "execute_result"
    }
   ],
   "source": [
    "from dataset.dialogue_graph_datamodule import SubDialogueDataModule\n",
    "\n",
    "model.eval()\n",
    "data_module = SubDialogueDataModule(\"data/MOLWENI/alibaba-graphs\", \"MOLWENI\", num_workers=0)\n",
    "data_module.setup(stage=\"test\")\n",
    "test_loader = data_module.test_dataloader()\n",
    "test_loader"
   ]
  },
  {
   "cell_type": "code",
   "execution_count": 12,
   "id": "3694f408-7888-4808-83c0-ed1531ff0f4d",
   "metadata": {},
   "outputs": [
    {
     "name": "stderr",
     "output_type": "stream",
     "text": [
      "Processing test data:   0%|          | 0/23 [00:14<?, ?it/s]"
     ]
    },
    {
     "name": "stdout",
     "output_type": "stream",
     "text": [
      "torch.Size([357])\n"
     ]
    },
    {
     "name": "stderr",
     "output_type": "stream",
     "text": [
      "\n"
     ]
    }
   ],
   "source": [
    "import torch \n",
    "from tqdm import tqdm\n",
    "\n",
    "with torch.no_grad():\n",
    "    for batch in tqdm(test_loader, desc=\"Processing test data\"):\n",
    "        link_logits, rel_probs = model(batch)\n",
    "\n",
    "        link_labels = batch[('edu', 'to', 'edu')].get('link_labels', None)\n",
    "        rel_labels = batch[('edu', 'to', 'edu')].get('rel_labels', None)\n",
    "\n",
    "        print(link_labels.shape)\n",
    "        break\n"
   ]
  },
  {
   "cell_type": "code",
   "execution_count": null,
   "id": "19b7dc45-7bb7-4710-bebb-64fe9a0ac9f1",
   "metadata": {},
   "outputs": [],
   "source": [
    "edge_index = batch[\"edu\", \"to\", \"edu\"].edge_index\n",
    "edge_index.T"
   ]
  },
  {
   "cell_type": "code",
   "execution_count": null,
   "id": "164fe38e-03bc-4b8c-8cc6-e1b0e1d34fd7",
   "metadata": {},
   "outputs": [],
   "source": [
    "batch.to_data_list()"
   ]
  },
  {
   "cell_type": "code",
   "execution_count": 19,
   "id": "0d791f4e-034e-456d-b356-60a66856132e",
   "metadata": {},
   "outputs": [],
   "source": [
    "edge_index = batch.to_data_list()[0][\"edu\", \"to\", \"edu\"].edge_index.T\n",
    "link_labels = batch.to_data_list()[0][\"edu\", \"to\", \"edu\"].link_labels\n",
    "rel_labels = batch.to_data_list()[0][\"edu\", \"to\", \"edu\"].rel_labels"
   ]
  },
  {
   "cell_type": "code",
   "execution_count": 20,
   "id": "78311f9c-72ca-4727-922f-7021a2e7b500",
   "metadata": {},
   "outputs": [
    {
     "data": {
      "text/plain": [
       "tensor([[0, 1],\n",
       "        [1, 2],\n",
       "        [2, 3],\n",
       "        [6, 8],\n",
       "        [3, 4],\n",
       "        [6, 7],\n",
       "        [4, 5],\n",
       "        [5, 6]])"
      ]
     },
     "execution_count": 20,
     "metadata": {},
     "output_type": "execute_result"
    }
   ],
   "source": [
    "edge_index_tmp = edge_index[link_labels == 1]\n",
    "edge_index_tmp"
   ]
  },
  {
   "cell_type": "code",
   "execution_count": 32,
   "id": "e1c5e569-0d1d-4e80-a843-6550b89b054e",
   "metadata": {},
   "outputs": [
    {
     "data": {
      "text/plain": [
       "HeteroData(\n",
       "  edu={\n",
       "    x=[7, 2],\n",
       "    edus={\n",
       "      input_ids=[7, 39],\n",
       "      attention_mask=[7, 39],\n",
       "    },\n",
       "  },\n",
       "  (edu, to, edu)={\n",
       "    edge_index=[2, 6],\n",
       "    link_labels=[6],\n",
       "    rel_labels=[6],\n",
       "  }\n",
       ")"
      ]
     },
     "execution_count": 32,
     "metadata": {},
     "output_type": "execute_result"
    }
   ],
   "source": [
    "import os\n",
    "import random\n",
    "from itertools import permutations\n",
    "\n",
    "import numpy as np\n",
    "import torch\n",
    "from torch_geometric.data import InMemoryDataset, HeteroData\n",
    "\n",
    "from utils import get_device\n",
    "from utils.constants import NEGATIVE_SAMPLES_RATIO, RELATIONS\n",
    "\n",
    "\n",
    "def encode_relation_type(edge_type: str) -> int:  # noqa\n",
    "    relations = [\"QAP\",\n",
    "                \"Comment\",\n",
    "                \"Clarification_question\",\n",
    "                \"Continuation\",\n",
    "                \"Acknowledgement\",\n",
    "                \"Conditional\",\n",
    "                \"Contrast\",\n",
    "                \"Explanation\",\n",
    "                \"Elaboration\",\n",
    "                \"Result\",\n",
    "                \"Correction\",\n",
    "                \"Q-Elab\",\n",
    "                \"Parallel\",\n",
    "                \"Background\",\n",
    "                \"Alternation\",\n",
    "                \"Narration\"]\n",
    "    if edge_type not in relations:\n",
    "        raise ValueError(f\"Unknown relation type: {edge_type}\")\n",
    "    return relations.index(edge_type)\n",
    "\n",
    "graph = torch.load(\"data/MOLWENI/alibaba-graphs/train/1.pt\", map_location=torch.device(\"cpu\"),\n",
    "                   weights_only=False)\n",
    "\n",
    "# collect positive edges\n",
    "pos_edges = []\n",
    "rel_labels = []\n",
    "for edge_type in graph.edge_types:\n",
    "    graph_edge_index = graph[edge_type[1]].edge_index\n",
    "    pos_edges.extend(graph_edge_index.t().tolist())\n",
    "    rel_labels.extend([encode_relation_type(edge_type[1])] * graph_edge_index.shape[1])\n",
    "\n",
    "# generate all possible edges and sample negative edges\n",
    "num_nodes = graph[\"edu\"].x.shape[0]\n",
    "all_possible_edges = list(permutations(range(num_nodes), 2))\n",
    "neg_edges = [edge for edge in all_possible_edges if edge not in pos_edges]\n",
    "\n",
    "num_negatives = int(len(pos_edges) * 0.1 / 100)\n",
    "neg_edges = random.sample(neg_edges, num_negatives)\n",
    "\n",
    "# combine positive and negative edges\n",
    "edges = np.array(pos_edges + neg_edges)\n",
    "edge_index = torch.tensor(edges, dtype=torch.long).T\n",
    "# label: 1 for pos, 0 for neg\n",
    "link_labels = torch.tensor(np.array([1] * len(pos_edges) + [0] * len(neg_edges)), dtype=torch.long)\n",
    "# label: [0-11] for pos, 12 for neg\n",
    "rel_labels = torch.tensor(np.array(rel_labels + [15] * len(neg_edges)), dtype=torch.long)\n",
    "\n",
    "new_graph = HeteroData()\n",
    "new_graph[\"edu\"].x = graph[\"edu\"].x\n",
    "new_graph[\"edu\"].edus = graph[\"edu\"].edus\n",
    "# Structural edges (edges that define the graph)\n",
    "new_graph[\"edu\", \"to\", \"edu\"].edge_index = edge_index\n",
    "\n",
    "# Training edges (link prediction task)\n",
    "new_graph[\"edu\", \"to\", \"edu\"].link_labels = link_labels\n",
    "new_graph[\"edu\", \"to\", \"edu\"].rel_labels = rel_labels\n",
    "new_graph"
   ]
  },
  {
   "cell_type": "code",
   "execution_count": 36,
   "id": "2e604b51-99af-4528-aa62-f03dd9985cef",
   "metadata": {},
   "outputs": [
    {
     "data": {
      "image/png": "[encoded data removed]",
      "text/plain": [
       "<Figure size 1000x800 with 1 Axes>"
      ]
     },
     "metadata": {},
     "output_type": "display_data"
    }
   ],
   "source": [
    "from utils import display_graph\n",
    "\n",
    "display_graph(graph)"
   ]
  },
  {
   "cell_type": "code",
   "execution_count": null,
   "id": "e921e19a-0f14-4c32-9c35-7dc2bc6cf4bd",
   "metadata": {},
   "outputs": [],
   "source": []
  }
 ],
 "metadata": {
  "kernelspec": {
   "display_name": "Python 3 (ipykernel)",
   "language": "python",
   "name": "python3"
  },
  "language_info": {
   "codemirror_mode": {
    "name": "ipython",
    "version": 3
   },
   "file_extension": ".py",
   "mimetype": "text/x-python",
   "name": "python",
   "nbconvert_exporter": "python",
   "pygments_lexer": "ipython3",
   "version": "3.10.13"
  }
 },
 "nbformat": 4,
 "nbformat_minor": 5
}
