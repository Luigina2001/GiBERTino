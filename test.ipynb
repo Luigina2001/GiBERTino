{
 "cells": [
  {
   "cell_type": "code",
   "id": "initial_id",
   "metadata": {
    "ExecuteTime": {
     "end_time": "2025-04-01T21:06:26.285747Z",
     "start_time": "2025-03-31T18:56:22.027530Z"
    }
   },
   "source": [
    "from httpcore import SOCKSProxy\n",
    "from requests.cookies import morsel_to_cookie\n",
    "from sympy import jacobi\n",
    "%reload_ext autoreload\n",
    "%autoreload 2\n",
    "\n",
    "import os\n",
    "os.environ[\"PYTORCH_MPS_HIGH_WATERMARK_RATIO\"] = \"0.0\"\n",
    "\n",
    "from dataset.graph_builder import GraphBuilder\n",
    "\n",
    "\n",
    "datasets = {\n",
    "    # \"MOLWENI\": {\n",
    "    #    \"val\": [\"dev.json\"], \n",
    "    #    \"test\": [\"test.json\"],\n",
    "    #    \"train\": [\"train.json\"]\n",
    "    # }, \n",
    "    # \"STAC\": {\n",
    "    #    \"test\": [\"test_subindex.json\"],\n",
    "    #    \"train\": [\"train_subindex.json\"]\n",
    "    # },\n",
    "    \"MINECRAFT\": {\n",
    "        # \"val\": [\"DEV_32_bert.json\", \"VAL_100_bert.json\"], \n",
    "        \"test\": [\"TEST_133.json\", \"TEST_101_bert.json\"],\n",
    "        \"train\": [\"TRAIN_307_bert.json\"]\n",
    "    },\n",
    "    \"BALANCED\": {\n",
    "        \"val\": [\"val.json\"], \n",
    "        \"test\": [\"test.json\"],\n",
    "        \"train\": [\"train.json\"]\n",
    "    }, \n",
    "}\n",
    "tokenizer = \"Alibaba-NLP/gte-modernbert-base\"\n",
    "save_path = \"alibaba-graphs\"\n",
    "\n",
    "for dataset in datasets.keys(): \n",
    "    for split in datasets[dataset].keys(): \n",
    "        filenames = []\n",
    "        dataset_names = []\n",
    "        \n",
    "        for filename in datasets[dataset][split]:\n",
    "            filenames.append(f\"data/{dataset}/{filename}\")\n",
    "            dataset_names.append(dataset)\n",
    "\n",
    "        builder = GraphBuilder(dataset_paths=filenames, dataset_names=dataset_names, dataset_type=split, tokenizer=tokenizer)\n",
    "        builder()\n",
    "        \n",
    "        builder.save_graphs(f\"data/{dataset}/{save_path}\")"
   ],
   "outputs": [
    {
     "name": "stderr",
     "output_type": "stream",
     "text": [
      "2025-03-31 20:56:22,632 - INFO - Loading dataset from data/MINECRAFT/TEST_133.json\n",
      "2025-03-31 20:56:22,638 - INFO - MINECRAFT dataset loaded successfully.\n",
      "2025-03-31 20:56:22,639 - INFO - Loading dataset from data/MINECRAFT/TEST_101_bert.json\n",
      "2025-03-31 20:56:22,646 - INFO - MINECRAFT dataset loaded successfully.\n",
      "2025-03-31 20:56:22,646 - INFO - Load tokenizer: Alibaba-NLP/gte-modernbert-base.\n",
      "2025-03-31 20:56:23,085 - INFO - Load pretrained sentiment analysis model: finiteautomata/bertweet-base-sentiment-analysis.\n",
      "2025-03-31 20:56:24,142 - INFO - Load backtranslation models: Helsinki-NLP/opus-mt-en-ROMANCE - Helsinki-NLP/opus-mt-ROMANCE-en.\n",
      "2025-03-31 20:56:26,876 - INFO - Starting graph construction for dataset/s ['MINECRAFT', 'MINECRAFT']...\n",
      "Processing dialogs: 100%|██████████| 234/234 [1:56:50<00:00, 29.96s/it]  \n",
      "2025-03-31 22:53:16,912 - INFO - Graph construction completed successfully.\n",
      "2025-03-31 22:53:16,912 - INFO - Saving graphs to data/MINECRAFT/alibaba-graphs/test\n",
      "2025-03-31 22:53:17,999 - INFO - Graphs saved successfully.\n",
      "2025-03-31 22:53:18,000 - INFO - Loading dataset from data/MINECRAFT/TRAIN_307_bert.json\n",
      "2025-03-31 22:53:18,014 - INFO - MINECRAFT dataset loaded successfully.\n",
      "2025-03-31 22:53:18,014 - INFO - Load tokenizer: Alibaba-NLP/gte-modernbert-base.\n",
      "2025-03-31 22:53:18,292 - INFO - Load pretrained sentiment analysis model: finiteautomata/bertweet-base-sentiment-analysis.\n",
      "2025-03-31 22:53:19,113 - INFO - Load backtranslation models: Helsinki-NLP/opus-mt-en-ROMANCE - Helsinki-NLP/opus-mt-ROMANCE-en.\n",
      "2025-03-31 22:53:22,180 - INFO - Starting graph construction for dataset/s ['MINECRAFT']...\n",
      "Processing dialogs: 100%|██████████| 307/307 [3:44:41<00:00, 43.91s/it]  \n",
      "2025-04-01 02:38:03,381 - INFO - Graph construction completed successfully.\n",
      "2025-04-01 02:38:03,382 - INFO - Saving graphs to data/MINECRAFT/alibaba-graphs/train\n",
      "2025-04-01 02:38:06,260 - INFO - Graphs saved successfully.\n",
      "2025-04-01 02:38:06,260 - INFO - Loading dataset from data/BALANCED/val.json\n",
      "2025-04-01 02:38:06,266 - INFO - BALANCED dataset loaded successfully.\n",
      "2025-04-01 02:38:06,266 - INFO - Load tokenizer: Alibaba-NLP/gte-modernbert-base.\n",
      "2025-04-01 02:38:06,853 - INFO - Load pretrained sentiment analysis model: finiteautomata/bertweet-base-sentiment-analysis.\n",
      "2025-04-01 02:38:07,989 - INFO - Load backtranslation models: Helsinki-NLP/opus-mt-en-ROMANCE - Helsinki-NLP/opus-mt-ROMANCE-en.\n",
      "2025-04-01 02:38:11,446 - INFO - Starting graph construction for dataset/s ['BALANCED']...\n",
      "Processing dialogs: 100%|██████████| 524/524 [1:37:06<00:00, 11.12s/it]  \n",
      "2025-04-01 04:15:18,376 - INFO - Graph construction completed successfully.\n",
      "2025-04-01 04:15:18,376 - INFO - Saving graphs to data/BALANCED/alibaba-graphs/val\n",
      "2025-04-01 04:15:21,161 - INFO - Graphs saved successfully.\n",
      "2025-04-01 04:15:21,161 - INFO - Loading dataset from data/BALANCED/test.json\n",
      "2025-04-01 04:15:21,168 - INFO - BALANCED dataset loaded successfully.\n",
      "2025-04-01 04:15:21,169 - INFO - Load tokenizer: Alibaba-NLP/gte-modernbert-base.\n",
      "2025-04-01 04:15:21,729 - INFO - Load pretrained sentiment analysis model: finiteautomata/bertweet-base-sentiment-analysis.\n",
      "2025-04-01 04:15:23,119 - INFO - Load backtranslation models: Helsinki-NLP/opus-mt-en-ROMANCE - Helsinki-NLP/opus-mt-ROMANCE-en.\n",
      "2025-04-01 04:15:26,540 - INFO - Starting graph construction for dataset/s ['BALANCED']...\n",
      "Processing dialogs: 100%|██████████| 575/575 [1:31:52<00:00,  9.59s/it]  \n",
      "2025-04-01 05:47:18,580 - INFO - Graph construction completed successfully.\n",
      "2025-04-01 05:47:18,581 - INFO - Saving graphs to data/BALANCED/alibaba-graphs/test\n",
      "2025-04-01 05:47:19,955 - INFO - Graphs saved successfully.\n",
      "2025-04-01 05:47:19,955 - INFO - Loading dataset from data/BALANCED/train.json\n",
      "2025-04-01 05:47:20,021 - INFO - BALANCED dataset loaded successfully.\n",
      "2025-04-01 05:47:20,022 - INFO - Load tokenizer: Alibaba-NLP/gte-modernbert-base.\n",
      "2025-04-01 05:47:20,582 - INFO - Load pretrained sentiment analysis model: finiteautomata/bertweet-base-sentiment-analysis.\n",
      "2025-04-01 05:47:21,413 - INFO - Load backtranslation models: Helsinki-NLP/opus-mt-en-ROMANCE - Helsinki-NLP/opus-mt-ROMANCE-en.\n",
      "2025-04-01 05:47:25,127 - INFO - Starting graph construction for dataset/s ['BALANCED']...\n",
      "Processing dialogs: 100%|██████████| 9211/9211 [17:18:25<00:00,  6.76s/it]   \n",
      "2025-04-01 23:05:50,845 - INFO - Graph construction completed successfully.\n",
      "2025-04-01 23:05:50,845 - INFO - Saving graphs to data/BALANCED/alibaba-graphs/train\n",
      "2025-04-01 23:06:26,280 - INFO - Graphs saved successfully.\n"
     ]
    }
   ],
   "execution_count": 38
  },
  {
   "cell_type": "code",
   "id": "95b92afb1dbbefd8",
   "metadata": {
    "ExecuteTime": {
     "end_time": "2025-03-31T18:43:47.695250Z",
     "start_time": "2025-03-30T19:49:51.743198Z"
    }
   },
   "source": "builder.save_graphs('data/BALANCED/dialogpt-graphs')",
   "outputs": [
    {
     "name": "stderr",
     "output_type": "stream",
     "text": [
      "2025-03-30 21:49:52,327 - INFO - Saving graphs to data/BALANCED/dialogpt-graphs/val\n",
      "2025-03-30 21:49:53,713 - INFO - Graphs saved successfully.\n"
     ]
    }
   ],
   "execution_count": 32
  },
  {
   "cell_type": "code",
   "execution_count": null,
   "id": "18ae6419a9790260",
   "metadata": {},
   "outputs": [],
   "source": [
    "import os \n",
    "\n",
    "os.path.isdir('data/UNIFIED')"
   ]
  },
  {
   "cell_type": "code",
   "execution_count": null,
   "id": "8ba8230dd54f62eb",
   "metadata": {},
   "outputs": [],
   "source": [
    "import torch \n",
    "import os \n",
    "x = torch.load(os.path.join('data/MOLWENI/graphs/test', '556.pt'), map_location='cpu')\n",
    "x "
   ]
  },
  {
   "cell_type": "code",
   "execution_count": null,
   "id": "5d854787b7c79b9f",
   "metadata": {},
   "outputs": [],
   "source": [
    "from utils import display_graph \n",
    "import torch \n",
    "\n",
    "display_graph(torch.load('data/BALANCED/graphs/test/212.pt', map_location='cpu'))"
   ]
  },
  {
   "cell_type": "code",
   "execution_count": null,
   "id": "5519e1932e15fa67",
   "metadata": {},
   "outputs": [],
   "source": []
  }
 ],
 "metadata": {
  "kernelspec": {
   "display_name": "Python 3 (ipykernel)",
   "language": "python",
   "name": "python3"
  },
  "language_info": {
   "codemirror_mode": {
    "name": "ipython",
    "version": 3
   },
   "file_extension": ".py",
   "mimetype": "text/x-python",
   "name": "python",
   "nbconvert_exporter": "python",
   "pygments_lexer": "ipython3",
   "version": "3.10.13"
  }
 },
 "nbformat": 4,
 "nbformat_minor": 5
}
