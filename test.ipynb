{
 "cells": [
  {
   "cell_type": "code",
   "id": "initial_id",
   "metadata": {
    "ExecuteTime": {
     "end_time": "2025-03-13T11:21:17.392736Z",
     "start_time": "2025-03-13T10:37:11.964796Z"
    }
   },
   "source": [
    "%reload_ext autoreload\n",
    "%autoreload 2\n",
    "\n",
    "import os\n",
    "os.environ[\"PYTORCH_MPS_HIGH_WATERMARK_RATIO\"] = \"0.0\"\n",
    "\n",
    "from dataset.graph_builder import GraphBuilder\n",
    "\n",
    "builder = GraphBuilder(dataset_paths=[\"data/BALANCED/val.json\"], dataset_names=[\"BALANCED\"], dataset_type='val', tokenizer=\"microsoft/DialoGPT-small\")\n",
    "builder()\n"
   ],
   "outputs": [
    {
     "name": "stderr",
     "output_type": "stream",
     "text": [
      "2025-03-13 11:37:12,168 - INFO - Loading dataset from data/BALANCED/val.json\n",
      "2025-03-13 11:37:12,174 - INFO - BALANCED dataset loaded successfully.\n",
      "2025-03-13 11:37:12,175 - INFO - Load tokenizer: microsoft/DialoGPT-small.\n",
      "2025-03-13 11:37:12,656 - INFO - Tokenizer pad token to None.\n",
      "2025-03-13 11:37:12,657 - INFO - Load pretrained sentiment analysis model: finiteautomata/bertweet-base-sentiment-analysis.\n",
      "2025-03-13 11:37:13,666 - INFO - Load backtranslation models: Helsinki-NLP/opus-mt-en-ROMANCE - Helsinki-NLP/opus-mt-ROMANCE-en.\n",
      "2025-03-13 11:37:16,812 - INFO - Starting graph construction for dataset/s ['BALANCED']...\n",
      "Processing dialogs: 100%|██████████| 524/524 [44:00<00:00,  5.04s/it]  \n",
      "2025-03-13 12:21:17,390 - INFO - Graph construction completed successfully.\n"
     ]
    }
   ],
   "execution_count": 13
  },
  {
   "cell_type": "code",
   "id": "95b92afb1dbbefd8",
   "metadata": {
    "ExecuteTime": {
     "end_time": "2025-03-13T11:34:51.200678Z",
     "start_time": "2025-03-13T11:34:49.587905Z"
    }
   },
   "source": "builder.save_graphs('data/BALANCED/dialogpt-graphs')",
   "outputs": [
    {
     "name": "stderr",
     "output_type": "stream",
     "text": [
      "2025-03-13 12:34:49,854 - INFO - Saving graphs to data/BALANCED/dialogpt-graphs/val\n",
      "2025-03-13 12:34:51,197 - INFO - Graphs saved successfully.\n"
     ]
    }
   ],
   "execution_count": 14
  },
  {
   "cell_type": "code",
   "execution_count": null,
   "id": "18ae6419a9790260",
   "metadata": {},
   "outputs": [],
   "source": [
    "import os \n",
    "\n",
    "os.path.isdir('data/UNIFIED')"
   ]
  },
  {
   "cell_type": "code",
   "execution_count": null,
   "id": "8ba8230dd54f62eb",
   "metadata": {},
   "outputs": [],
   "source": [
    "import torch \n",
    "import os \n",
    "x = torch.load(os.path.join('data/MOLWENI/graphs/test', '556.pt'), map_location='cpu')\n",
    "x "
   ]
  },
  {
   "cell_type": "code",
   "execution_count": null,
   "id": "5d854787b7c79b9f",
   "metadata": {},
   "outputs": [],
   "source": [
    "from utils import display_graph \n",
    "import torch \n",
    "\n",
    "display_graph(torch.load('data/BALANCED/graphs/test/212.pt', map_location='cpu'))"
   ]
  },
  {
   "cell_type": "code",
   "execution_count": null,
   "id": "5519e1932e15fa67",
   "metadata": {},
   "outputs": [],
   "source": []
  }
 ],
 "metadata": {
  "kernelspec": {
   "display_name": "Python 3 (ipykernel)",
   "language": "python",
   "name": "python3"
  },
  "language_info": {
   "codemirror_mode": {
    "name": "ipython",
    "version": 3
   },
   "file_extension": ".py",
   "mimetype": "text/x-python",
   "name": "python",
   "nbconvert_exporter": "python",
   "pygments_lexer": "ipython3",
   "version": "3.10.13"
  }
 },
 "nbformat": 4,
 "nbformat_minor": 5
}
