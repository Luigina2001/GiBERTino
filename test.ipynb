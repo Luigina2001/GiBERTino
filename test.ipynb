{
 "cells": [
  {
   "cell_type": "code",
   "id": "initial_id",
   "metadata": {},
   "source": [
    "%reload_ext autoreload\n",
    "%autoreload 2\n",
    "\n",
    "import os\n",
    "os.environ[\"PYTORCH_MPS_HIGH_WATERMARK_RATIO\"] = \"0.0\"\n",
    "\n",
    "from dataset.graph_builder import GraphBuilder\n",
    "\n",
    "builder = GraphBuilder(dataset_paths=[\"data/BALANCED/test.json\"], dataset_names=[\"BALANCED\"], dataset_type='test')\n",
    "builder()"
   ],
   "outputs": [],
   "execution_count": null
  },
  {
   "cell_type": "code",
   "id": "9798576257473e29",
   "metadata": {},
   "source": [
    "builder.display_graph(1)"
   ],
   "outputs": [],
   "execution_count": null
  },
  {
   "cell_type": "code",
   "id": "95b92afb1dbbefd8",
   "metadata": {},
   "source": [
    "builder.save_graphs('data/BALANCED/graphs_augmented')"
   ],
   "outputs": [],
   "execution_count": null
  },
  {
   "cell_type": "code",
   "id": "18ae6419a9790260",
   "metadata": {},
   "source": [
    "import os \n",
    "\n",
    "os.path.isdir('data/UNIFIED')"
   ],
   "outputs": [],
   "execution_count": null
  },
  {
   "cell_type": "code",
   "id": "8ba8230dd54f62eb",
   "metadata": {},
   "source": [
    "import torch \n",
    "\n",
    "x = torch.load(os.path.join('data/UNIFIED/dev', '0.pt'))\n",
    "x "
   ],
   "outputs": [],
   "execution_count": null
  },
  {
   "cell_type": "code",
   "id": "5d854787b7c79b9f",
   "metadata": {},
   "source": [
    "from utils import display_graph \n",
    "\n",
    "display_graph(x)"
   ],
   "outputs": [],
   "execution_count": null
  }
 ],
 "metadata": {
  "kernelspec": {
   "display_name": "Python 3 (ipykernel)",
   "language": "python",
   "name": "python3"
  },
  "language_info": {
   "codemirror_mode": {
    "name": "ipython",
    "version": 3
   },
   "file_extension": ".py",
   "mimetype": "text/x-python",
   "name": "python",
   "nbconvert_exporter": "python",
   "pygments_lexer": "ipython3",
   "version": "3.10.13"
  }
 },
 "nbformat": 4,
 "nbformat_minor": 5
}
