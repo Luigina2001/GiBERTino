{
 "cells": [
  {
   "cell_type": "code",
   "id": "initial_id",
   "metadata": {
    "ExecuteTime": {
     "end_time": "2025-03-01T13:23:43.907755Z",
     "start_time": "2025-03-01T12:05:07.778548Z"
    }
   },
   "source": [
    "%reload_ext autoreload\n",
    "%autoreload 2\n",
    "\n",
    "import os\n",
    "os.environ[\"PYTORCH_MPS_HIGH_WATERMARK_RATIO\"] = \"0.0\"\n",
    "\n",
    "from dataset.graph_builder import GraphBuilder\n",
    "\n",
    "builder = GraphBuilder(dataset_paths=[\"data/MINECRAFT/TRAIN_307_bert.json\"], dataset_names=[\"MINECRAFT\"], dataset_type='train')\n",
    "builder()"
   ],
   "outputs": [
    {
     "name": "stderr",
     "output_type": "stream",
     "text": [
      "2025-03-01 13:05:07,870 - INFO - Loading dataset from data/MINECRAFT/TRAIN_307_bert.json\n",
      "2025-03-01 13:05:07,883 - INFO - MINECRAFT dataset loaded successfully.\n",
      "2025-03-01 13:05:07,884 - INFO - Load tokenizer: Alibaba-NLP/gte-modernbert-base.\n",
      "2025-03-01 13:05:08,198 - INFO - Load pretrained sentiment analysis model: finiteautomata/bertweet-base-sentiment-analysis.\n",
      "2025-03-01 13:05:08,791 - INFO - Load backtranslation models: Helsinki-NLP/opus-mt-en-ROMANCE - Helsinki-NLP/opus-mt-ROMANCE-en.\n",
      "2025-03-01 13:05:11,530 - INFO - Starting graph construction for dataset/s ['MINECRAFT']...\n",
      "Processing dialogs: 100%|██████████| 307/307 [1:18:32<00:00, 15.35s/it]\n",
      "2025-03-01 14:23:43,905 - INFO - Graph construction completed successfully.\n"
     ]
    }
   ],
   "execution_count": 5
  },
  {
   "cell_type": "code",
   "id": "9798576257473e29",
   "metadata": {},
   "source": [
    "builder.display_graph(1)"
   ],
   "outputs": [],
   "execution_count": null
  },
  {
   "cell_type": "code",
   "id": "95b92afb1dbbefd8",
   "metadata": {
    "ExecuteTime": {
     "end_time": "2025-03-01T13:40:47.950659Z",
     "start_time": "2025-03-01T13:40:46.321176Z"
    }
   },
   "source": "builder.save_graphs('data/MINECRAFT/graphs')",
   "outputs": [
    {
     "name": "stderr",
     "output_type": "stream",
     "text": [
      "2025-03-01 14:40:46,500 - INFO - Saving graphs to data/MINECRAFT/graphs/train\n",
      "2025-03-01 14:40:47,948 - INFO - Graphs saved successfully.\n"
     ]
    }
   ],
   "execution_count": 6
  },
  {
   "cell_type": "code",
   "id": "18ae6419a9790260",
   "metadata": {},
   "source": [
    "import os \n",
    "\n",
    "os.path.isdir('data/UNIFIED')"
   ],
   "outputs": [],
   "execution_count": null
  },
  {
   "cell_type": "code",
   "id": "8ba8230dd54f62eb",
   "metadata": {},
   "source": [
    "import torch \n",
    "import os \n",
    "x = torch.load(os.path.join('data/MOLWENI/graphs/test', '556.pt'), map_location='cpu')\n",
    "x "
   ],
   "outputs": [],
   "execution_count": null
  },
  {
   "cell_type": "code",
   "id": "5d854787b7c79b9f",
   "metadata": {},
   "source": [
    "from utils import display_graph \n",
    "import torch \n",
    "\n",
    "display_graph(torch.load('data/BALANCED/graphs/test/212.pt', map_location='cpu'))"
   ],
   "outputs": [],
   "execution_count": null
  },
  {
   "cell_type": "code",
   "id": "5519e1932e15fa67",
   "metadata": {},
   "source": [],
   "outputs": [],
   "execution_count": null
  }
 ],
 "metadata": {
  "kernelspec": {
   "display_name": "Python 3 (ipykernel)",
   "language": "python",
   "name": "python3"
  },
  "language_info": {
   "codemirror_mode": {
    "name": "ipython",
    "version": 3
   },
   "file_extension": ".py",
   "mimetype": "text/x-python",
   "name": "python",
   "nbconvert_exporter": "python",
   "pygments_lexer": "ipython3",
   "version": "3.10.13"
  }
 },
 "nbformat": 4,
 "nbformat_minor": 5
}
